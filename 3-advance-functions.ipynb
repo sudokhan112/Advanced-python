{
 "cells": [
  {
   "cell_type": "code",
   "execution_count": 1,
   "metadata": {},
   "outputs": [
    {
     "name": "stdout",
     "output_type": "stream",
     "text": [
      "myFunction(arg1, arg2=None) --> Doesn't really do anything special.\n",
      "\n",
      "    Parameters:\n",
      "    arg1: the first argument. Whatever you feel like passing.\n",
      "    arg2: the second argument. Defaults to None. Whatever makes you happy.\n",
      "    \n"
     ]
    }
   ],
   "source": [
    "# Demonstrate the use of function docstrings\n",
    "# also true for class\n",
    "\n",
    "\n",
    "def myFunction(arg1, arg2=None):\n",
    "    \"\"\"myFunction(arg1, arg2=None) --> Doesn't really do anything special.\n",
    "\n",
    "    Parameters:\n",
    "    arg1: the first argument. Whatever you feel like passing.\n",
    "    arg2: the second argument. Defaults to None. Whatever makes you happy.\n",
    "    \"\"\"\n",
    "    print(arg1, arg2)\n",
    "\n",
    "\n",
    "def main():\n",
    "    print(myFunction.__doc__) #shows the docstring\n",
    "\n",
    "\n",
    "if __name__ == \"__main__\":\n",
    "    main()"
   ]
  },
  {
   "cell_type": "code",
   "execution_count": 3,
   "metadata": {},
   "outputs": [
    {
     "name": "stdout",
     "output_type": "stream",
     "text": [
      "50\n",
      "6\n",
      "50\n"
     ]
    },
    {
     "data": {
      "text/plain": [
       "'\\nDrawback:\\nif we change functions input arguments then\\nhow we call the function later must also change.\\n\\ndef addition(base, *args):\\n    result = 0\\n    for arg in args:\\n        result += arg\\n\\n    return result\\n\\nprint(addition(5, 10, 15, 20))\\n45 (instead of 50)\\n'"
      ]
     },
     "execution_count": 3,
     "metadata": {},
     "output_type": "execute_result"
    }
   ],
   "source": [
    "# Demonstrate the use of variable argument lists\n",
    "\n",
    "\n",
    "# define a function that takes variable arguments\n",
    "# args is a variable\n",
    "def addition(*args):\n",
    "    result = 0\n",
    "    for arg in args:\n",
    "        result += arg\n",
    "\n",
    "    return result\n",
    "\n",
    "\n",
    "def main():\n",
    "    # pass different arguments\n",
    "    print(addition(5, 10, 15, 20))\n",
    "    print(addition(1, 2, 3))\n",
    "\n",
    "    # pass an existing list\n",
    "    myNums = [5, 10, 15, 20]\n",
    "    print(addition(*myNums))\n",
    "\n",
    "\n",
    "if __name__ == \"__main__\":\n",
    "    main()\n",
    "\n",
    "\"\"\"\n",
    "Drawback:\n",
    "if we change functions input arguments then\n",
    "how we call the function later must also change.\n",
    "\n",
    "def addition(base, *args):\n",
    "    result = 0\n",
    "    for arg in args:\n",
    "        result += arg\n",
    "\n",
    "    return result\n",
    "\n",
    "print(addition(5, 10, 15, 20))\n",
    "45 (instead of 50)\n",
    "\"\"\""
   ]
  },
  {
   "cell_type": "markdown",
   "metadata": {},
   "source": [
    "### Lambda functions\n",
    "\n",
    "Small, anonymous function, passed a s arguments where we need a function (like callback in JS)\n",
    "\n",
    "Defined as:\n",
    "`lambda (parameter) : (expression)`\n",
    "\n"
   ]
  },
  {
   "cell_type": "code",
   "execution_count": 4,
   "metadata": {},
   "outputs": [
    {
     "name": "stdout",
     "output_type": "stream",
     "text": [
      "[0.0, 18.333333333333332, 37.77777777777778, 100.0]\n",
      "[32.0, 53.6, 93.2, 212.0]\n",
      "[0.0, 18.333333333333332, 37.77777777777778, 100.0]\n",
      "[32.0, 53.6, 93.2, 212.0]\n"
     ]
    }
   ],
   "source": [
    "# Use lambdas as in-place functions\n",
    "\n",
    "\n",
    "def CelsisusToFahrenheit(temp):\n",
    "    return (temp * 9/5) + 32\n",
    "\n",
    "\n",
    "def FahrenheitToCelsisus(temp):\n",
    "    return (temp-32) * 5/9\n",
    "\n",
    "\n",
    "def main():\n",
    "    ctemps = [0, 12, 34, 100]\n",
    "    ftemps = [32, 65, 100, 212]\n",
    "\n",
    "    # Use regular functions to convert temps\n",
    "    print(list(map(FahrenheitToCelsisus, ftemps)))\n",
    "    print(list(map(CelsisusToFahrenheit, ctemps)))\n",
    "\n",
    "    # Use lambdas to accomplish the same thing\n",
    "    print(list(map(lambda t: (t-32) * 5/9, ftemps)))\n",
    "    print(list(map(lambda t: (t * 9/5) + 32, ctemps)))\n",
    "\n",
    "\n",
    "if __name__ == \"__main__\":\n",
    "    main()"
   ]
  },
  {
   "cell_type": "code",
   "execution_count": 5,
   "metadata": {},
   "outputs": [
    {
     "name": "stdout",
     "output_type": "stream",
     "text": [
      "1 2 True\n"
     ]
    }
   ],
   "source": [
    "# Demonstrate the use of keyword-only arguments\n",
    "\n",
    "\n",
    "# use keyword-only arguments to help ensure code clarity\n",
    "# all kargs goes after *,\n",
    "def myFunction(arg1, arg2, *, suppressExceptions=False):\n",
    "    print(arg1, arg2, suppressExceptions)\n",
    "\n",
    "\n",
    "def main():\n",
    "    # try to call the function without the keyword\n",
    "    # myFunction(1, 2, True) # error, 3 argunemt needed 2 given\n",
    "    myFunction(1, 2, suppressExceptions=True)\n",
    "\n",
    "\n",
    "if __name__ == \"__main__\":\n",
    "    main()"
   ]
  },
  {
   "cell_type": "code",
   "execution_count": null,
   "metadata": {},
   "outputs": [],
   "source": []
  }
 ],
 "metadata": {
  "kernelspec": {
   "display_name": "Python 3",
   "language": "python",
   "name": "python3"
  },
  "language_info": {
   "codemirror_mode": {
    "name": "ipython",
    "version": 3
   },
   "file_extension": ".py",
   "mimetype": "text/x-python",
   "name": "python",
   "nbconvert_exporter": "python",
   "pygments_lexer": "ipython3",
   "version": "3.8.5"
  }
 },
 "nbformat": 4,
 "nbformat_minor": 4
}
