{
 "cells": [
  {
   "cell_type": "code",
   "execution_count": 1,
   "metadata": {},
   "outputs": [
    {
     "name": "stdout",
     "output_type": "stream",
     "text": [
      "<Person Class - Firstname:John, Lastname:Doe, age25>\n",
      "Person (John Doe is 25)\n",
      "Formatted: Person (John Doe is 25)\n",
      "b'Person:John:Doe:25'\n"
     ]
    }
   ],
   "source": [
    "# customize string representations of objects\n",
    "\n",
    "\n",
    "class Person():\n",
    "    def __init__(self):\n",
    "        self.fname = \"John\"\n",
    "        self.lname = \"Doe\"\n",
    "        self.age = 25\n",
    "    \n",
    "    # overriding __repr__ and __str__ function\n",
    "    # use __repr__ to create a string useful for debugging\n",
    "    def __repr__(self):\n",
    "        return \"<Person Class - Firstname:{0}, Lastname:{1}, age:{2}>\".format(self.fname, self.lname, self.age)\n",
    "\n",
    "    # use str for a more human-readable string\n",
    "    def __str__(self):\n",
    "        return \"Person ({0} {1} is {2})\".format(self.fname, self.lname, self.age)\n",
    "\n",
    "    # use bytes to convert the informal string to a bytes object\n",
    "    def __bytes__(self):\n",
    "        val = \"Person:{0}:{1}:{2}\".format(self.fname, self.lname, self.age)\n",
    "        return bytes(val.encode('utf-8'))\n",
    "\n",
    "\n",
    "def main():\n",
    "    # create a new Person object\n",
    "    cls1 = Person()\n",
    "\n",
    "    # use different Python functions to convert it to a string\n",
    "    print(repr(cls1))\n",
    "    print(str(cls1))\n",
    "    print(\"Formatted: {0}\".format(cls1))\n",
    "    print(bytes(cls1))\n",
    "\n",
    "\n",
    "if __name__ == \"__main__\":\n",
    "    main()"
   ]
  },
  {
   "cell_type": "code",
   "execution_count": null,
   "metadata": {},
   "outputs": [],
   "source": []
  }
 ],
 "metadata": {
  "kernelspec": {
   "display_name": "Python 3",
   "language": "python",
   "name": "python3"
  },
  "language_info": {
   "codemirror_mode": {
    "name": "ipython",
    "version": 3
   },
   "file_extension": ".py",
   "mimetype": "text/x-python",
   "name": "python",
   "nbconvert_exporter": "python",
   "pygments_lexer": "ipython3",
   "version": "3.8.5"
  }
 },
 "nbformat": 4,
 "nbformat_minor": 4
}
