{
 "cells": [
  {
   "cell_type": "markdown",
   "metadata": {},
   "source": [
    "### Built-in functions\n",
    "https://docs.python.org/3/library/functions.html"
   ]
  },
  {
   "cell_type": "code",
   "execution_count": null,
   "metadata": {},
   "outputs": [],
   "source": [
    "# demonstrate built-in utility functions\n",
    "\n",
    "\n",
    "def main():\n",
    "    # use any() and all() to test sequences for boolean values\n",
    "    list1 = [1, 2, 3, 0, 5, 6]\n",
    "    \n",
    "    # any will return true if any of the sequence values are true\n",
    "    print(any(list1))\n",
    "    \n",
    "    # all will return true only if all values are true\n",
    "    print(all(list1))\n",
    "    \n",
    "    # min and max will return minimum and maximum values in a sequence\n",
    "    print(\"min: \", min(list1))\n",
    "    print(\"max: \", max(list1))    \n",
    "    \n",
    "    # Use sum() to sum up all of the values in a sequence\n",
    "    print(\"sum: \", sum(list1))\n",
    "    \n",
    "    \n",
    "if __name__ == \"__main__\":\n",
    "    main()"
   ]
  }
 ],
 "metadata": {
  "kernelspec": {
   "display_name": "Python 3",
   "language": "python",
   "name": "python3"
  },
  "language_info": {
   "codemirror_mode": {
    "name": "ipython",
    "version": 3
   },
   "file_extension": ".py",
   "mimetype": "text/x-python",
   "name": "python",
   "nbconvert_exporter": "python",
   "pygments_lexer": "ipython3",
   "version": "3.8.5"
  }
 },
 "nbformat": 4,
 "nbformat_minor": 4
}
