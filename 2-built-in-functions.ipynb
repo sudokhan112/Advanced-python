{
 "cells": [
  {
   "cell_type": "markdown",
   "metadata": {},
   "source": [
    "### Built-in functions\n",
    "https://docs.python.org/3/library/functions.html"
   ]
  },
  {
   "cell_type": "code",
   "execution_count": 1,
   "metadata": {},
   "outputs": [
    {
     "name": "stdout",
     "output_type": "stream",
     "text": [
      "True\n",
      "False\n",
      "min:  0\n",
      "max:  6\n",
      "sum:  17\n"
     ]
    }
   ],
   "source": [
    "# demonstrate built-in utility functions\n",
    "\n",
    "\n",
    "def main():\n",
    "    # use any() and all() to test sequences for boolean values\n",
    "    list1 = [1, 2, 3, 0, 5, 6]\n",
    "    \n",
    "    # any will return true if any of the sequence values are true\n",
    "    # only '0' returns False\n",
    "    print(any(list1))\n",
    "    \n",
    "    # all will return true only if all values are true\n",
    "    print(all(list1))\n",
    "    \n",
    "    # min and max will return minimum and maximum values in a sequence\n",
    "    print(\"min: \", min(list1))\n",
    "    print(\"max: \", max(list1))    \n",
    "    \n",
    "    # Use sum() to sum up all of the values in a sequence\n",
    "    print(\"sum: \", sum(list1))\n",
    "    \n",
    "    \n",
    "if __name__ == \"__main__\":\n",
    "    main()"
   ]
  },
  {
   "cell_type": "code",
   "execution_count": 2,
   "metadata": {},
   "outputs": [
    {
     "name": "stdout",
     "output_type": "stream",
     "text": [
      "Sun\n",
      "Mon\n",
      "Tue\n",
      "This is line 1\n",
      "\n",
      "This is line 2\n",
      "\n",
      "This is line 3\n",
      "\n",
      "This is line 4\n",
      "\n",
      "This is line 5\n",
      "\n",
      "This is line 6\n",
      "\n",
      "1 Sun\n",
      "2 Mon\n",
      "3 Tue\n",
      "4 Wed\n",
      "5 Thu\n",
      "6 Fri\n",
      "7 Sat\n",
      "1 Sun\n",
      "2 Mon\n",
      "3 Tue\n",
      "4 Wed\n",
      "5 Thu\n",
      "6 Fri\n",
      "7 Sat\n",
      "('Sun', 'Dim')\n",
      "('Mon', 'Lun')\n",
      "('Tue', 'Mar')\n",
      "('Wed', 'Mer')\n",
      "('Thu', 'Jeu')\n",
      "('Fri', 'Ven')\n",
      "('Sat', 'Sam')\n",
      "1 Sun = Dim in French\n",
      "2 Mon = Lun in French\n",
      "3 Tue = Mar in French\n",
      "4 Wed = Mer in French\n",
      "5 Thu = Jeu in French\n",
      "6 Fri = Ven in French\n",
      "7 Sat = Sam in French\n"
     ]
    }
   ],
   "source": [
    "# use iterator functions like enumerate, zip, iter, next\n",
    "\n",
    "\n",
    "def main():\n",
    "    # define a list of days in English and French\n",
    "    days = [\"Sun\", \"Mon\", \"Tue\", \"Wed\", \"Thu\", \"Fri\", \"Sat\"]\n",
    "    daysFr = [\"Dim\", \"Lun\", \"Mar\", \"Mer\", \"Jeu\", \"Ven\", \"Sam\"]\n",
    "\n",
    "    # use iter to create an iterator over a collection or object \n",
    "    i = iter(days)\n",
    "    # possible to access items\n",
    "    print(next(i))  # Sun\n",
    "    print(next(i))  # Mon\n",
    "    print(next(i))  # Tue\n",
    "    # useful when function to use to generate items\n",
    "\n",
    "    # iterate using a function and a sentinel\n",
    "    with open(\"testfile.txt\", \"r\") as fp:\n",
    "        # iter() is taking readline() function and sentinel value ''\n",
    "        # when generated value is equal to sentinel value\n",
    "        # iter() will stop \n",
    "        # readline() returns empty string at the end of file\n",
    "        # and iter() stops\n",
    "        for line in iter(fp.readline, ''):\n",
    "            print(line)\n",
    "\n",
    "    # use regular interation over the days\n",
    "    for m in range(len(days)):\n",
    "        print(m+1, days[m]) # index and value\n",
    "\n",
    "    # using enumerate reduces code and provides a counter\n",
    "    for i, m in enumerate(days, start=1):\n",
    "        print(i, m)\n",
    "\n",
    "    # use zip to combine sequences; output tuple\n",
    "    # zip terminates when the shortest list ends\n",
    "    for m in zip(days, daysFr):\n",
    "        print(m)\n",
    "\n",
    "    for i, m in enumerate(zip(days, daysFr), start=1):\n",
    "        print(i, m[0], \"=\", m[1], \"in French\")\n",
    "\n",
    "\n",
    "if __name__ == \"__main__\":\n",
    "    main()"
   ]
  },
  {
   "cell_type": "code",
   "execution_count": null,
   "metadata": {},
   "outputs": [],
   "source": []
  }
 ],
 "metadata": {
  "kernelspec": {
   "display_name": "Python 3",
   "language": "python",
   "name": "python3"
  },
  "language_info": {
   "codemirror_mode": {
    "name": "ipython",
    "version": 3
   },
   "file_extension": ".py",
   "mimetype": "text/x-python",
   "name": "python",
   "nbconvert_exporter": "python",
   "pygments_lexer": "ipython3",
   "version": "3.8.5"
  }
 },
 "nbformat": 4,
 "nbformat_minor": 4
}
